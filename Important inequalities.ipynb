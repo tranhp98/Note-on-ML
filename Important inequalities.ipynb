{
 "cells": [
  {
   "cell_type": "markdown",
   "metadata": {},
   "source": [
    "These are short summaries of some of the most used inequalities in ML research. I also provide a short proof and quick intuition on each of these inequalities"
   ]
  },
  {
   "cell_type": "markdown",
   "metadata": {},
   "source": [
    "1. Markov's Inequality: One of the most used inequality in ML theory. The Markov’s Inequality is used by Machine Learning engineers to determine and derive an upper bound for the probability that a non-negative function of a random or given variable is greater or equal to some positive constant. For example, it can be used to upper bound the expected error of an estimation:\n",
    "\n",
    "If X is a nonnegative RV and $\\varepsilon \\ > \\ 0 $ then:\n",
    "$$  P[X \\ \\geq \\ \\varepsilon] \\leq \\frac{E[X]}{\\varepsilon} $$\n",
    "\n",
    "Proof:\n",
    "\n",
    "$$ E[X] = \\int_{-\\infty}^{\\infty} xf(x)dx = \\int_{0}^{\\infty} xf(x)dx \\ (X \\ is\\  nonnegative) $$\n",
    "$$ = \\int_{0}^{\\varepsilon} xf(x)dx + \\int_{\\varepsilon}^{\\infty} xf(x)dx $$\n",
    "$$ \\geq \\int_{\\varepsilon}^{\\infty} xf(x)dx \\geq \\int_{\\varepsilon}^{\\infty} \\varepsilon f(x)dx$$\n",
    "$$ = \\varepsilon \\int_{\\varepsilon}^{\\infty} f"
   ]
  },
  {
   "cell_type": "code",
   "execution_count": null,
   "metadata": {},
   "outputs": [],
   "source": []
  }
 ],
 "metadata": {
  "kernelspec": {
   "display_name": "Python 3",
   "language": "python",
   "name": "python3"
  },
  "language_info": {
   "codemirror_mode": {
    "name": "ipython",
    "version": 3
   },
   "file_extension": ".py",
   "mimetype": "text/x-python",
   "name": "python",
   "nbconvert_exporter": "python",
   "pygments_lexer": "ipython3",
   "version": "3.7.4"
  }
 },
 "nbformat": 4,
 "nbformat_minor": 2
}
